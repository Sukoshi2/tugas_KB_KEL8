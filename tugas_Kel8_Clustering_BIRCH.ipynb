{
 "cells": [
  {
   "cell_type": "code",
   "execution_count": 2,
   "metadata": {},
   "outputs": [],
   "source": [
    "import pandas as pd\n",
    "import numpy as np\n",
    "import matplotlib.pyplot as plt\n",
    "import os\n",
    "\n",
    "from sklearn.cluster import Birch\n",
    "from tqdm import tqdm\n",
    "import joblib"
   ]
  },
  {
   "cell_type": "markdown",
   "metadata": {},
   "source": []
  },
  {
   "cell_type": "code",
   "execution_count": 3,
   "metadata": {},
   "outputs": [],
   "source": [
    "data_time_series = pd.read_csv('2011-2014/data_time_series_converted.csv', index_col=\"date_time\")"
   ]
  },
  {
   "cell_type": "code",
   "execution_count": 4,
   "metadata": {},
   "outputs": [
    {
     "data": {
      "text/plain": [
       "MT_001    float64\n",
       "MT_002    float64\n",
       "MT_003    float64\n",
       "MT_004    float64\n",
       "MT_005    float64\n",
       "           ...   \n",
       "MT_366    float64\n",
       "MT_367    float64\n",
       "MT_368    float64\n",
       "MT_369    float64\n",
       "MT_370    float64\n",
       "Length: 370, dtype: object"
      ]
     },
     "execution_count": 4,
     "metadata": {},
     "output_type": "execute_result"
    }
   ],
   "source": [
    "data_time_series.dtypes"
   ]
  },
  {
   "cell_type": "code",
   "execution_count": 7,
   "metadata": {},
   "outputs": [
    {
     "ename": "MemoryError",
     "evalue": "Unable to allocate 73.3 GiB for an array with shape (9835802640,) and data type float64",
     "output_type": "error",
     "traceback": [
      "\u001b[1;31m---------------------------------------------------------------------------\u001b[0m",
      "\u001b[1;31mMemoryError\u001b[0m                               Traceback (most recent call last)",
      "Cell \u001b[1;32mIn [7], line 2\u001b[0m\n\u001b[0;32m      1\u001b[0m birchCluster \u001b[39m=\u001b[39m Birch(n_clusters\u001b[39m=\u001b[39m\u001b[39m3\u001b[39m) \u001b[39m# n cluster = 3 nanti run dirumah\u001b[39;00m\n\u001b[1;32m----> 2\u001b[0m birchCluster\u001b[39m.\u001b[39;49mfit(data_time_series)\n",
      "File \u001b[1;32mc:\\Users\\nizar\\AppData\\Local\\Programs\\Python\\Python310\\lib\\site-packages\\sklearn\\cluster\\_birch.py:553\u001b[0m, in \u001b[0;36mBirch.fit\u001b[1;34m(self, X, y)\u001b[0m\n\u001b[0;32m    551\u001b[0m \u001b[39m# TODO: Remove deprecated flags in 1.2\u001b[39;00m\n\u001b[0;32m    552\u001b[0m \u001b[39mself\u001b[39m\u001b[39m.\u001b[39m_deprecated_fit, \u001b[39mself\u001b[39m\u001b[39m.\u001b[39m_deprecated_partial_fit \u001b[39m=\u001b[39m \u001b[39mTrue\u001b[39;00m, \u001b[39mFalse\u001b[39;00m\n\u001b[1;32m--> 553\u001b[0m \u001b[39mreturn\u001b[39;00m \u001b[39mself\u001b[39;49m\u001b[39m.\u001b[39;49m_fit(X, partial\u001b[39m=\u001b[39;49m\u001b[39mFalse\u001b[39;49;00m)\n",
      "File \u001b[1;32mc:\\Users\\nizar\\AppData\\Local\\Programs\\Python\\Python310\\lib\\site-packages\\sklearn\\cluster\\_birch.py:616\u001b[0m, in \u001b[0;36mBirch._fit\u001b[1;34m(self, X, partial)\u001b[0m\n\u001b[0;32m    613\u001b[0m \u001b[39mself\u001b[39m\u001b[39m.\u001b[39msubcluster_centers_ \u001b[39m=\u001b[39m centroids\n\u001b[0;32m    614\u001b[0m \u001b[39mself\u001b[39m\u001b[39m.\u001b[39m_n_features_out \u001b[39m=\u001b[39m \u001b[39mself\u001b[39m\u001b[39m.\u001b[39msubcluster_centers_\u001b[39m.\u001b[39mshape[\u001b[39m0\u001b[39m]\n\u001b[1;32m--> 616\u001b[0m \u001b[39mself\u001b[39;49m\u001b[39m.\u001b[39;49m_global_clustering(X)\n\u001b[0;32m    617\u001b[0m \u001b[39mreturn\u001b[39;00m \u001b[39mself\u001b[39m\n",
      "File \u001b[1;32mc:\\Users\\nizar\\AppData\\Local\\Programs\\Python\\Python310\\lib\\site-packages\\sklearn\\cluster\\_birch.py:762\u001b[0m, in \u001b[0;36mBirch._global_clustering\u001b[1;34m(self, X)\u001b[0m\n\u001b[0;32m    752\u001b[0m         warnings\u001b[39m.\u001b[39mwarn(\n\u001b[0;32m    753\u001b[0m             \u001b[39m\"\u001b[39m\u001b[39mNumber of subclusters found (\u001b[39m\u001b[39m%d\u001b[39;00m\u001b[39m) by BIRCH is less \u001b[39m\u001b[39m\"\u001b[39m\n\u001b[0;32m    754\u001b[0m             \u001b[39m\"\u001b[39m\u001b[39mthan (\u001b[39m\u001b[39m%d\u001b[39;00m\u001b[39m). Decrease the threshold.\u001b[39m\u001b[39m\"\u001b[39m\n\u001b[0;32m    755\u001b[0m             \u001b[39m%\u001b[39m (\u001b[39mlen\u001b[39m(centroids), \u001b[39mself\u001b[39m\u001b[39m.\u001b[39mn_clusters),\n\u001b[0;32m    756\u001b[0m             ConvergenceWarning,\n\u001b[0;32m    757\u001b[0m         )\n\u001b[0;32m    758\u001b[0m \u001b[39melse\u001b[39;00m:\n\u001b[0;32m    759\u001b[0m     \u001b[39m# The global clustering step that clusters the subclusters of\u001b[39;00m\n\u001b[0;32m    760\u001b[0m     \u001b[39m# the leaves. It assumes the centroids of the subclusters as\u001b[39;00m\n\u001b[0;32m    761\u001b[0m     \u001b[39m# samples and finds the final centroids.\u001b[39;00m\n\u001b[1;32m--> 762\u001b[0m     \u001b[39mself\u001b[39m\u001b[39m.\u001b[39msubcluster_labels_ \u001b[39m=\u001b[39m clusterer\u001b[39m.\u001b[39;49mfit_predict(\u001b[39mself\u001b[39;49m\u001b[39m.\u001b[39;49msubcluster_centers_)\n\u001b[0;32m    764\u001b[0m \u001b[39mif\u001b[39;00m compute_labels:\n\u001b[0;32m    765\u001b[0m     \u001b[39mself\u001b[39m\u001b[39m.\u001b[39mlabels_ \u001b[39m=\u001b[39m \u001b[39mself\u001b[39m\u001b[39m.\u001b[39m_predict(X)\n",
      "File \u001b[1;32mc:\\Users\\nizar\\AppData\\Local\\Programs\\Python\\Python310\\lib\\site-packages\\sklearn\\cluster\\_agglomerative.py:1051\u001b[0m, in \u001b[0;36mAgglomerativeClustering.fit_predict\u001b[1;34m(self, X, y)\u001b[0m\n\u001b[0;32m   1030\u001b[0m \u001b[39mdef\u001b[39;00m \u001b[39mfit_predict\u001b[39m(\u001b[39mself\u001b[39m, X, y\u001b[39m=\u001b[39m\u001b[39mNone\u001b[39;00m):\n\u001b[0;32m   1031\u001b[0m     \u001b[39m\"\"\"Fit and return the result of each sample's clustering assignment.\u001b[39;00m\n\u001b[0;32m   1032\u001b[0m \n\u001b[0;32m   1033\u001b[0m \u001b[39m    In addition to fitting, this method also return the result of the\u001b[39;00m\n\u001b[1;32m   (...)\u001b[0m\n\u001b[0;32m   1049\u001b[0m \u001b[39m        Cluster labels.\u001b[39;00m\n\u001b[0;32m   1050\u001b[0m \u001b[39m    \"\"\"\u001b[39;00m\n\u001b[1;32m-> 1051\u001b[0m     \u001b[39mreturn\u001b[39;00m \u001b[39msuper\u001b[39;49m()\u001b[39m.\u001b[39;49mfit_predict(X, y)\n",
      "File \u001b[1;32mc:\\Users\\nizar\\AppData\\Local\\Programs\\Python\\Python310\\lib\\site-packages\\sklearn\\base.py:751\u001b[0m, in \u001b[0;36mClusterMixin.fit_predict\u001b[1;34m(self, X, y)\u001b[0m\n\u001b[0;32m    733\u001b[0m \u001b[39m\"\"\"\u001b[39;00m\n\u001b[0;32m    734\u001b[0m \u001b[39mPerform clustering on `X` and returns cluster labels.\u001b[39;00m\n\u001b[0;32m    735\u001b[0m \n\u001b[1;32m   (...)\u001b[0m\n\u001b[0;32m    747\u001b[0m \u001b[39m    Cluster labels.\u001b[39;00m\n\u001b[0;32m    748\u001b[0m \u001b[39m\"\"\"\u001b[39;00m\n\u001b[0;32m    749\u001b[0m \u001b[39m# non-optimized default implementation; override when a better\u001b[39;00m\n\u001b[0;32m    750\u001b[0m \u001b[39m# method is possible for a given clustering algorithm\u001b[39;00m\n\u001b[1;32m--> 751\u001b[0m \u001b[39mself\u001b[39;49m\u001b[39m.\u001b[39;49mfit(X)\n\u001b[0;32m    752\u001b[0m \u001b[39mreturn\u001b[39;00m \u001b[39mself\u001b[39m\u001b[39m.\u001b[39mlabels_\n",
      "File \u001b[1;32mc:\\Users\\nizar\\AppData\\Local\\Programs\\Python\\Python310\\lib\\site-packages\\sklearn\\cluster\\_agglomerative.py:915\u001b[0m, in \u001b[0;36mAgglomerativeClustering.fit\u001b[1;34m(self, X, y)\u001b[0m\n\u001b[0;32m    897\u001b[0m \u001b[39m\"\"\"Fit the hierarchical clustering from features, or distance matrix.\u001b[39;00m\n\u001b[0;32m    898\u001b[0m \n\u001b[0;32m    899\u001b[0m \u001b[39mParameters\u001b[39;00m\n\u001b[1;32m   (...)\u001b[0m\n\u001b[0;32m    912\u001b[0m \u001b[39m    Returns the fitted instance.\u001b[39;00m\n\u001b[0;32m    913\u001b[0m \u001b[39m\"\"\"\u001b[39;00m\n\u001b[0;32m    914\u001b[0m X \u001b[39m=\u001b[39m \u001b[39mself\u001b[39m\u001b[39m.\u001b[39m_validate_data(X, ensure_min_samples\u001b[39m=\u001b[39m\u001b[39m2\u001b[39m)\n\u001b[1;32m--> 915\u001b[0m \u001b[39mreturn\u001b[39;00m \u001b[39mself\u001b[39;49m\u001b[39m.\u001b[39;49m_fit(X)\n",
      "File \u001b[1;32mc:\\Users\\nizar\\AppData\\Local\\Programs\\Python\\Python310\\lib\\site-packages\\sklearn\\cluster\\_agglomerative.py:998\u001b[0m, in \u001b[0;36mAgglomerativeClustering._fit\u001b[1;34m(self, X)\u001b[0m\n\u001b[0;32m    994\u001b[0m distance_threshold \u001b[39m=\u001b[39m \u001b[39mself\u001b[39m\u001b[39m.\u001b[39mdistance_threshold\n\u001b[0;32m    996\u001b[0m return_distance \u001b[39m=\u001b[39m (distance_threshold \u001b[39mis\u001b[39;00m \u001b[39mnot\u001b[39;00m \u001b[39mNone\u001b[39;00m) \u001b[39mor\u001b[39;00m \u001b[39mself\u001b[39m\u001b[39m.\u001b[39mcompute_distances\n\u001b[1;32m--> 998\u001b[0m out \u001b[39m=\u001b[39m memory\u001b[39m.\u001b[39mcache(tree_builder)(\n\u001b[0;32m    999\u001b[0m     X,\n\u001b[0;32m   1000\u001b[0m     connectivity\u001b[39m=\u001b[39mconnectivity,\n\u001b[0;32m   1001\u001b[0m     n_clusters\u001b[39m=\u001b[39mn_clusters,\n\u001b[0;32m   1002\u001b[0m     return_distance\u001b[39m=\u001b[39mreturn_distance,\n\u001b[0;32m   1003\u001b[0m     \u001b[39m*\u001b[39m\u001b[39m*\u001b[39mkwargs,\n\u001b[0;32m   1004\u001b[0m )\n\u001b[0;32m   1005\u001b[0m (\u001b[39mself\u001b[39m\u001b[39m.\u001b[39mchildren_, \u001b[39mself\u001b[39m\u001b[39m.\u001b[39mn_connected_components_, \u001b[39mself\u001b[39m\u001b[39m.\u001b[39mn_leaves_, parents) \u001b[39m=\u001b[39m out[\n\u001b[0;32m   1006\u001b[0m     :\u001b[39m4\u001b[39m\n\u001b[0;32m   1007\u001b[0m ]\n\u001b[0;32m   1009\u001b[0m \u001b[39mif\u001b[39;00m return_distance:\n",
      "File \u001b[1;32mc:\\Users\\nizar\\AppData\\Local\\Programs\\Python\\Python310\\lib\\site-packages\\joblib\\memory.py:349\u001b[0m, in \u001b[0;36mNotMemorizedFunc.__call__\u001b[1;34m(self, *args, **kwargs)\u001b[0m\n\u001b[0;32m    348\u001b[0m \u001b[39mdef\u001b[39;00m \u001b[39m__call__\u001b[39m(\u001b[39mself\u001b[39m, \u001b[39m*\u001b[39margs, \u001b[39m*\u001b[39m\u001b[39m*\u001b[39mkwargs):\n\u001b[1;32m--> 349\u001b[0m     \u001b[39mreturn\u001b[39;00m \u001b[39mself\u001b[39m\u001b[39m.\u001b[39mfunc(\u001b[39m*\u001b[39margs, \u001b[39m*\u001b[39m\u001b[39m*\u001b[39mkwargs)\n",
      "File \u001b[1;32mc:\\Users\\nizar\\AppData\\Local\\Programs\\Python\\Python310\\lib\\site-packages\\sklearn\\cluster\\_agglomerative.py:270\u001b[0m, in \u001b[0;36mward_tree\u001b[1;34m(X, connectivity, n_clusters, return_distance)\u001b[0m\n\u001b[0;32m    260\u001b[0m     warnings\u001b[39m.\u001b[39mwarn(\n\u001b[0;32m    261\u001b[0m         \u001b[39m\"\u001b[39m\u001b[39mPartial build of the tree is implemented \u001b[39m\u001b[39m\"\u001b[39m\n\u001b[0;32m    262\u001b[0m         \u001b[39m\"\u001b[39m\u001b[39monly for structured clustering (i.e. with \u001b[39m\u001b[39m\"\u001b[39m\n\u001b[1;32m   (...)\u001b[0m\n\u001b[0;32m    267\u001b[0m         stacklevel\u001b[39m=\u001b[39m\u001b[39m2\u001b[39m,\n\u001b[0;32m    268\u001b[0m     )\n\u001b[0;32m    269\u001b[0m X \u001b[39m=\u001b[39m np\u001b[39m.\u001b[39mrequire(X, requirements\u001b[39m=\u001b[39m\u001b[39m\"\u001b[39m\u001b[39mW\u001b[39m\u001b[39m\"\u001b[39m)\n\u001b[1;32m--> 270\u001b[0m out \u001b[39m=\u001b[39m hierarchy\u001b[39m.\u001b[39;49mward(X)\n\u001b[0;32m    271\u001b[0m children_ \u001b[39m=\u001b[39m out[:, :\u001b[39m2\u001b[39m]\u001b[39m.\u001b[39mastype(np\u001b[39m.\u001b[39mintp)\n\u001b[0;32m    273\u001b[0m \u001b[39mif\u001b[39;00m return_distance:\n",
      "File \u001b[1;32mc:\\Users\\nizar\\AppData\\Local\\Programs\\Python\\Python310\\lib\\site-packages\\scipy\\cluster\\hierarchy.py:834\u001b[0m, in \u001b[0;36mward\u001b[1;34m(y)\u001b[0m\n\u001b[0;32m    738\u001b[0m \u001b[39mdef\u001b[39;00m \u001b[39mward\u001b[39m(y):\n\u001b[0;32m    739\u001b[0m     \u001b[39m\"\"\"\u001b[39;00m\n\u001b[0;32m    740\u001b[0m \u001b[39m    Perform Ward's linkage on a condensed distance matrix.\u001b[39;00m\n\u001b[0;32m    741\u001b[0m \n\u001b[1;32m   (...)\u001b[0m\n\u001b[0;32m    832\u001b[0m \n\u001b[0;32m    833\u001b[0m \u001b[39m    \"\"\"\u001b[39;00m\n\u001b[1;32m--> 834\u001b[0m     \u001b[39mreturn\u001b[39;00m linkage(y, method\u001b[39m=\u001b[39;49m\u001b[39m'\u001b[39;49m\u001b[39mward\u001b[39;49m\u001b[39m'\u001b[39;49m, metric\u001b[39m=\u001b[39;49m\u001b[39m'\u001b[39;49m\u001b[39meuclidean\u001b[39;49m\u001b[39m'\u001b[39;49m)\n",
      "File \u001b[1;32mc:\\Users\\nizar\\AppData\\Local\\Programs\\Python\\Python310\\lib\\site-packages\\scipy\\cluster\\hierarchy.py:1060\u001b[0m, in \u001b[0;36mlinkage\u001b[1;34m(y, method, metric, optimal_ordering)\u001b[0m\n\u001b[0;32m   1056\u001b[0m         \u001b[39mif\u001b[39;00m np\u001b[39m.\u001b[39mall(y \u001b[39m>\u001b[39m\u001b[39m=\u001b[39m \u001b[39m0\u001b[39m) \u001b[39mand\u001b[39;00m np\u001b[39m.\u001b[39mallclose(y, y\u001b[39m.\u001b[39mT):\n\u001b[0;32m   1057\u001b[0m             _warning(\u001b[39m'\u001b[39m\u001b[39mThe symmetric non-negative hollow observation \u001b[39m\u001b[39m'\u001b[39m\n\u001b[0;32m   1058\u001b[0m                      \u001b[39m'\u001b[39m\u001b[39mmatrix looks suspiciously like an uncondensed \u001b[39m\u001b[39m'\u001b[39m\n\u001b[0;32m   1059\u001b[0m                      \u001b[39m'\u001b[39m\u001b[39mdistance matrix\u001b[39m\u001b[39m'\u001b[39m)\n\u001b[1;32m-> 1060\u001b[0m     y \u001b[39m=\u001b[39m distance\u001b[39m.\u001b[39;49mpdist(y, metric)\n\u001b[0;32m   1061\u001b[0m \u001b[39melse\u001b[39;00m:\n\u001b[0;32m   1062\u001b[0m     \u001b[39mraise\u001b[39;00m \u001b[39mValueError\u001b[39;00m(\u001b[39m\"\u001b[39m\u001b[39m`y` must be 1 or 2 dimensional.\u001b[39m\u001b[39m\"\u001b[39m)\n",
      "File \u001b[1;32mc:\\Users\\nizar\\AppData\\Local\\Programs\\Python\\Python310\\lib\\site-packages\\scipy\\spatial\\distance.py:2233\u001b[0m, in \u001b[0;36mpdist\u001b[1;34m(X, metric, out, **kwargs)\u001b[0m\n\u001b[0;32m   2231\u001b[0m \u001b[39mif\u001b[39;00m metric_info \u001b[39mis\u001b[39;00m \u001b[39mnot\u001b[39;00m \u001b[39mNone\u001b[39;00m:\n\u001b[0;32m   2232\u001b[0m     pdist_fn \u001b[39m=\u001b[39m metric_info\u001b[39m.\u001b[39mpdist_func\n\u001b[1;32m-> 2233\u001b[0m     \u001b[39mreturn\u001b[39;00m pdist_fn(X, out\u001b[39m=\u001b[39mout, \u001b[39m*\u001b[39m\u001b[39m*\u001b[39mkwargs)\n\u001b[0;32m   2234\u001b[0m \u001b[39melif\u001b[39;00m mstr\u001b[39m.\u001b[39mstartswith(\u001b[39m\"\u001b[39m\u001b[39mtest_\u001b[39m\u001b[39m\"\u001b[39m):\n\u001b[0;32m   2235\u001b[0m     metric_info \u001b[39m=\u001b[39m _TEST_METRICS\u001b[39m.\u001b[39mget(mstr, \u001b[39mNone\u001b[39;00m)\n",
      "\u001b[1;31mMemoryError\u001b[0m: Unable to allocate 73.3 GiB for an array with shape (9835802640,) and data type float64"
     ]
    }
   ],
   "source": [
    "birchCluster = Birch(n_clusters=3) # n cluster = 3 nanti run dirumah\n",
    "birchCluster.fit(data_time_series)\n",
    "\n",
    "# chunksize = 10000\n",
    "# birchCluster = Birch(n_clusters=None)\n",
    "# for train_df in tqdm(pd.read_csv('2011-2014/data_time_series_converted.csv', chunksize=chunksize, iterator=True, index_col=\"date_time\")):\n",
    "#     X = train_df\n",
    "#     birchCluster.partial_fit(X)\n",
    "\n",
    "# birchCluster.set_params(n_clusters=3)\n",
    "# birchCluster.partial_fit()"
   ]
  },
  {
   "cell_type": "code",
   "execution_count": null,
   "metadata": {},
   "outputs": [],
   "source": [
    "x_label = birchCluster.labels_\n",
    "print(x_label)"
   ]
  },
  {
   "cell_type": "code",
   "execution_count": null,
   "metadata": {},
   "outputs": [],
   "source": [
    "birchCluster.predict(data_time_series)"
   ]
  }
 ],
 "metadata": {
  "kernelspec": {
   "display_name": "Python 3.10.7 64-bit",
   "language": "python",
   "name": "python3"
  },
  "language_info": {
   "codemirror_mode": {
    "name": "ipython",
    "version": 3
   },
   "file_extension": ".py",
   "mimetype": "text/x-python",
   "name": "python",
   "nbconvert_exporter": "python",
   "pygments_lexer": "ipython3",
   "version": "3.10.7"
  },
  "orig_nbformat": 4,
  "vscode": {
   "interpreter": {
    "hash": "0247af2ad54b89941d5bbc349ce0bb468cceffd3de09303ac244a9d0972ce8b5"
   }
  }
 },
 "nbformat": 4,
 "nbformat_minor": 2
}
